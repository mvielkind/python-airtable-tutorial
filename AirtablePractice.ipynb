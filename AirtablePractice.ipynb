{
 "cells": [
  {
   "cell_type": "markdown",
   "id": "9d10b5cc",
   "metadata": {},
   "source": [
    "## Setup\n",
    "\n",
    "Before running this norebook make sure you have updated the `.env` file for your Airtable API token and the ID for the Airtable Base you are using. Those parameters will be read in as a part of the `airtable.py` file to authenticate the API requests.\n",
    "\n",
    "You will also need to have an Airtable base with a sheet named `golf-scores` containing the following columns and data types:\n",
    "\n",
    "- Date (string)\n",
    "- Hole (integer)\n",
    "- Par (integer)\n",
    "- Score (integer)\n",
    "\n",
    "Once that's done let's get into the code by first importing the requirements and loading the initial data we'll use.\n",
    "\n",
    "For this demo we'll use the file `data/initial_data.json` that contains a set of scores for a round of golf."
   ]
  },
  {
   "cell_type": "code",
   "execution_count": 56,
   "id": "85fc68a7",
   "metadata": {},
   "outputs": [
    {
     "name": "stdout",
     "output_type": "stream",
     "text": [
      "{'records': [{'fields': {'Date': '2021-10-08', 'Hole': 1, 'Par': 4, 'Score': 5}}, {'fields': {'Date': '2021-10-08', 'Hole': 2, 'Par': 4, 'Score': 3}}, {'fields': {'Date': '2021-10-08', 'Hole': 3, 'Par': 5, 'Score': 6}}, {'fields': {'Date': '2021-10-08', 'Hole': 4, 'Par': 3, 'Score': 2}}, {'fields': {'Date': '2021-10-08', 'Hole': 5, 'Par': 4, 'Score': 4}}, {'fields': {'Date': '2021-10-08', 'Hole': 6, 'Par': 4, 'Score': 6}}, {'fields': {'Date': '2021-10-08', 'Hole': 7, 'Par': 4, 'Score': 4}}, {'fields': {'Date': '2021-10-08', 'Hole': 8, 'Par': 5, 'Score': 4}}, {'fields': {'Date': '2021-10-08', 'Hole': 9, 'Par': 4, 'Score': 3}}, {'fields': {'Date': '2021-10-08', 'Hole': 10, 'Par': 4, 'Score': 5}}, {'fields': {'Date': '2021-10-08', 'Hole': 11, 'Par': 4, 'Score': 3}}, {'fields': {'Date': '2021-10-08', 'Hole': 12, 'Par': 5, 'Score': 6}}, {'fields': {'Date': '2021-10-08', 'Hole': 13, 'Par': 3, 'Score': 2}}, {'fields': {'Date': '2021-10-08', 'Hole': 14, 'Par': 4, 'Score': 4}}, {'fields': {'Date': '2021-10-08', 'Hole': 15, 'Par': 4, 'Score': 6}}, {'fields': {'Date': '2021-10-08', 'Hole': 16, 'Par': 4, 'Score': 4}}, {'fields': {'Date': '2021-10-08', 'Hole': 17, 'Par': 5, 'Score': 4}}, {'fields': {'Date': '2021-10-08', 'Hole': 18, 'Par': 4, 'Score': 3}}]}\n"
     ]
    }
   ],
   "source": [
    "import os\n",
    "import json\n",
    "import requests\n",
    "from dotenv import load_dotenv\n",
    "load_dotenv()\n",
    "\n",
    "AIRTABLE_TOKEN = os.getenv(\"AIRTABLE_TOKEN\")\n",
    "AIRTABLE_BASE_ID = os.getenv(\"AIRTABLE_BASE_ID\")\n",
    "AIRTABLE_URL = f\"https://api.airtable.com/v0/{AIRTABLE_BASE_ID}\"\n",
    "\n",
    "# Load initial data.\n",
    "data = json.load(open(\"data/initial_data.json\", \"r\"))\n",
    "\n",
    "print(data)"
   ]
  },
  {
   "cell_type": "markdown",
   "id": "aa9528f7",
   "metadata": {},
   "source": [
    "## Adding Records to Airtable\n",
    "\n",
    "The `add_new_scores` function accepts an object, `scores`, that will be added to the Airtable. The variables read from the `.env` file are used to authenticate the `POST` request."
   ]
  },
  {
   "cell_type": "code",
   "execution_count": 57,
   "id": "c1312f34",
   "metadata": {},
   "outputs": [],
   "source": [
    "def add_new_scores(scores):\n",
    "    \"\"\"Add scores to the Airtable.\"\"\"\n",
    "    # Check if more than 10 records are trying to be added.\n",
    "    if len(scores[\"records\"]) > 10:\n",
    "        print(\"Cannot add more than 10 records in a single request.\")\n",
    "        return None\n",
    "\n",
    "    url = f\"{AIRTABLE_URL}/golf-scores\"\n",
    "    headers = {\n",
    "      'Authorization': f'Bearer {AIRTABLE_TOKEN}',\n",
    "      'Content-Type': 'application/json'\n",
    "    }\n",
    "\n",
    "    response = requests.request(\"POST\", url, headers=headers, data=json.dumps(scores))\n",
    "\n",
    "    return response"
   ]
  },
  {
   "cell_type": "markdown",
   "id": "36cff26d",
   "metadata": {},
   "source": [
    "The first request using `add_new_scores` will add a single record. The `small_data` variable has data for a single fictional hole number 0 that will be passed to `add_new_scores`. After running the cell look at your Airtable to confirm the record is there."
   ]
  },
  {
   "cell_type": "code",
   "execution_count": 58,
   "id": "1a7d0301",
   "metadata": {},
   "outputs": [],
   "source": [
    "# Add one record to Airtable.\n",
    "small_data = {\n",
    "    \"records\": [\n",
    "        {\n",
    "            \"Date\": \"2021-10-20\",\n",
    "            \"Hole\": 0,\n",
    "            \"Par\": 4,\n",
    "            \"Score\": 6\n",
    "        }\n",
    "    ]\n",
    "}\n",
    "\n",
    "response = add_new_scores(small_data)"
   ]
  },
  {
   "cell_type": "markdown",
   "id": "f74ca1dc",
   "metadata": {},
   "source": [
    "One limitation to Airtable is you can only submit up to 10 records at a time. When you try adding more than 10 records you'll get an error. Let's try adding all 18 records in `data` to the table and see what happens."
   ]
  },
  {
   "cell_type": "code",
   "execution_count": 59,
   "id": "b2ed92cd",
   "metadata": {},
   "outputs": [
    {
     "name": "stdout",
     "output_type": "stream",
     "text": [
      "Cannot add more than 10 records in a single request.\n"
     ]
    }
   ],
   "source": [
    "# Adding multiple records (this will be an error!). \n",
    "response = add_new_scores(data)"
   ]
  },
  {
   "cell_type": "markdown",
   "id": "1c7a35aa",
   "metadata": {},
   "source": [
    "If you want to add more than 10 records you will have to add the records by submitting multiple requests. Below the `chunk` function breaks the `data` object into segments of 10 records and will iteratively call the `add_new_scores` function to add each chunk to Airtable."
   ]
  },
  {
   "cell_type": "code",
   "execution_count": 60,
   "id": "8e47b44d",
   "metadata": {},
   "outputs": [
    {
     "name": "stdout",
     "output_type": "stream",
     "text": [
      "<Response [200]>\n",
      "<Response [200]>\n"
     ]
    }
   ],
   "source": [
    "# Chunk the data into groups of no more than 10. Submit each chunk separately.\n",
    "def chunk(arr, n):\n",
    "    for i in range(0, len(arr), n):\n",
    "        yield arr[i:i + n]\n",
    "\n",
    "\n",
    "for c in chunk(data[\"records\"], 10):\n",
    "    chunk_data = {\n",
    "        \"records\": c\n",
    "    }\n",
    "\n",
    "    response = add_new_scores(chunk_data)\n",
    "    print(response)"
   ]
  },
  {
   "cell_type": "markdown",
   "id": "8514e165",
   "metadata": {},
   "source": [
    "## Reading Records from Airtable\n",
    "\n",
    "Now that there are records in the Airtable let's look at how to read them. The `get_golf_scores` function will retrieve records from Airtable."
   ]
  },
  {
   "cell_type": "code",
   "execution_count": 61,
   "id": "7a26725b",
   "metadata": {},
   "outputs": [],
   "source": [
    "def get_golf_scores():\n",
    "    \"\"\"Retrieve records from Airtable.\"\"\"\n",
    "    url = f\"{AIRTABLE_URL}/golf-scores\"\n",
    "    headers = {\n",
    "      'Authorization': f'Bearer {AIRTABLE_TOKEN}',\n",
    "      'Content-Type': 'application/json'\n",
    "    }\n",
    "\n",
    "    response = requests.request(\"GET\", url, headers=headers)\n",
    "\n",
    "    return response"
   ]
  },
  {
   "cell_type": "code",
   "execution_count": 62,
   "id": "323d3a88",
   "metadata": {},
   "outputs": [
    {
     "name": "stdout",
     "output_type": "stream",
     "text": [
      "<Response [200]>\n"
     ]
    }
   ],
   "source": [
    "# Read records from Airtable.\n",
    "output = get_golf_scores()\n",
    "\n",
    "print(output)"
   ]
  },
  {
   "cell_type": "markdown",
   "id": "b64faeaf",
   "metadata": {},
   "source": [
    "The result of `output` will list all the records in Airtable. One limitation of Airtable is only a maximum of 100 records are returned with each request. If you want to retrieve more than 100 records you will need to leverage the `offset` parameter returned by Airtable and issue multiple requests.\n",
    "\n",
    "The function `get_golf_scores_by_page` accepts an optional parameter `offset`. If provided, the `offset` value will be added to the request and Airtable will return the next page of results. Unlike `get_golf_scores` we're also including a `params` object in the request that dictates each request should return 5 records so that the pagination can be tested."
   ]
  },
  {
   "cell_type": "code",
   "execution_count": 63,
   "id": "2e4f05e6",
   "metadata": {},
   "outputs": [],
   "source": [
    "def get_golf_scores_by_page(offset=None):\n",
    "    \"\"\"Retrieve records from Airtable and apply offset is necessary.\"\"\"\n",
    "    url = f\"{AIRTABLE_URL}/golf-scores\"\n",
    "    headers = {\n",
    "      'Authorization': f'Bearer {AIRTABLE_TOKEN}',\n",
    "      'Content-Type': 'application/json'\n",
    "    }\n",
    "\n",
    "    params = {\n",
    "        \"pageSize\": 5\n",
    "    }\n",
    "\n",
    "    if offset:\n",
    "        params[\"offset\"] = offset\n",
    "\n",
    "    response = requests.request(\"GET\", url, headers=headers, params=params)\n",
    "\n",
    "    return response"
   ]
  },
  {
   "cell_type": "markdown",
   "id": "b788fe7b",
   "metadata": {},
   "source": [
    "The next cell utilizes `get_golf_scores_by_page` by checking for the presence of `offset` in the response indicating there are more records in Airtable meeting your criteria to be retrieved. The code iteratively submits requests and stores the results in `all_records` until all the records are retrieved from Airtable."
   ]
  },
  {
   "cell_type": "code",
   "execution_count": 64,
   "id": "bc159669",
   "metadata": {},
   "outputs": [],
   "source": [
    "# Paginate results.\n",
    "all_records = []\n",
    "results = get_golf_scores_by_page()\n",
    "all_records.extend(results.json()[\"records\"])\n",
    "\n",
    "while \"offset\" in results.json():\n",
    "    results = get_golf_scores_by_page(results.json()[\"offset\"])\n",
    "    all_records.extend(results.json()[\"records\"])"
   ]
  },
  {
   "cell_type": "markdown",
   "id": "4d15c4d2",
   "metadata": {},
   "source": [
    "You can also apply filters to your records in Airtable by defining the filters and behavior within the parameters of your request. The `get_scores_for_hole` function allows you to return records for only the hole you specify. In addition, only the fields for `Hole` and `Score` will be returned as a part of the output."
   ]
  },
  {
   "cell_type": "code",
   "execution_count": 65,
   "id": "30843706",
   "metadata": {},
   "outputs": [],
   "source": [
    "def get_scores_for_hole(hole):\n",
    "    \"\"\"Get scores for a specific hole.\"\"\"\n",
    "    url = f\"{AIRTABLE_URL}/golf-scores\"\n",
    "    headers = {\n",
    "      'Authorization': f'Bearer {AIRTABLE_TOKEN}',\n",
    "      'Content-Type': 'application/json'\n",
    "    }\n",
    "\n",
    "    params = {\n",
    "        \"fields\": [\"Hole\", \"Score\"],\n",
    "        \"filterByFormula\": f\"Hole={hole}\"\n",
    "    }\n",
    "\n",
    "    response = requests.request(\"GET\", url, headers=headers, params=params)\n",
    "\n",
    "    return response"
   ]
  },
  {
   "cell_type": "markdown",
   "id": "6286169b",
   "metadata": {},
   "source": [
    "Let's test this function by getting the score for the third hole."
   ]
  },
  {
   "cell_type": "code",
   "execution_count": 66,
   "id": "d987f205",
   "metadata": {},
   "outputs": [
    {
     "data": {
      "text/plain": [
       "{'records': [{'id': 'recH9472sCeg94tp2',\n",
       "   'fields': {'Hole': 3, 'Score': 6},\n",
       "   'createdTime': '2021-10-20T23:02:47.000Z'},\n",
       "  {'id': 'recN005xRqgCaEAyb',\n",
       "   'fields': {'Hole': 3, 'Score': 6},\n",
       "   'createdTime': '2021-10-20T22:41:28.000Z'}]}"
      ]
     },
     "execution_count": 66,
     "metadata": {},
     "output_type": "execute_result"
    }
   ],
   "source": [
    "# Filter rows.\n",
    "hole3 = get_scores_for_hole(3)\n",
    "\n",
    "hole3.json()"
   ]
  },
  {
   "cell_type": "markdown",
   "id": "455f10ce",
   "metadata": {},
   "source": [
    "Unlike the previous examples where we returned data, this time you only get the records for hole 3 that contain just the `Hole` and `Score`.\n",
    "\n",
    "For conveinance in the later requests I'm creating a variable `hole_3_id` that is equal to the `id` of the output from the last response. This ID is going to be needed for the next few actions. When you see this variable this is what it is referring to."
   ]
  },
  {
   "cell_type": "code",
   "execution_count": 67,
   "id": "a5ffade3",
   "metadata": {},
   "outputs": [],
   "source": [
    "# Setting a variable for use later.\n",
    "hole_3_id = hole3.json()[\"records\"][0][\"id\"]"
   ]
  },
  {
   "cell_type": "markdown",
   "id": "00777524",
   "metadata": {},
   "source": [
    "## Updating Records in Airtable\n",
    "\n",
    "Once you have existing records in Airtable you may need to update a value of that record. You can do this through either a `PATCH` or `PUT` request.\n",
    "\n",
    "Let's look at the `PATCH` request first. A `PATCH` request will update the values of a record you specify in your request and leave all other fields the same. To make a `PATCH` request for a record in Airtable you need to know the `id` of the record you want to update and then you can provide updated field values for the record.\n",
    "\n",
    "The `update_record_fields` function submits a `PATCH` request."
   ]
  },
  {
   "cell_type": "code",
   "execution_count": 68,
   "id": "36976d65",
   "metadata": {},
   "outputs": [],
   "source": [
    "def update_record_fields(updated_records):\n",
    "    \"\"\"Updates the records.\"\"\"\n",
    "    url = f\"{AIRTABLE_URL}/golf-scores\"\n",
    "    headers = {\n",
    "        'Authorization': f'Bearer {AIRTABLE_TOKEN}',\n",
    "        'Content-Type': 'application/json'\n",
    "    }\n",
    "\n",
    "    response = requests.request(\"PATCH\", url, headers=headers, data=json.dumps(updated_records))\n",
    "\n",
    "    return response"
   ]
  },
  {
   "cell_type": "markdown",
   "id": "79a71a99",
   "metadata": {},
   "source": [
    "Let's update the score of the third hole to be 5 instead of 6. The `update_records` variable shows the syntax of the `PATCH` payload. Make sure you update the `id` field with the value with the proper record ID you returned when you retrieved them from Airtable."
   ]
  },
  {
   "cell_type": "code",
   "execution_count": 69,
   "id": "83a35630",
   "metadata": {},
   "outputs": [],
   "source": [
    "# Update a record (PATCH).\n",
    "update_records = {\n",
    "    \"records\": [\n",
    "        {\n",
    "            \"id\": hole_3_id,\n",
    "            \"fields\": {\n",
    "                \"Score\": 5\n",
    "            }\n",
    "        }\n",
    "    ]\n",
    "}\n",
    "\n",
    "response = update_record_fields(update_records)"
   ]
  },
  {
   "cell_type": "markdown",
   "id": "2df503fb",
   "metadata": {},
   "source": [
    "Checking the score for hole 3 again you can see it has been updated to 5 and that all of the other fields have the same value."
   ]
  },
  {
   "cell_type": "code",
   "execution_count": 70,
   "id": "4f8d307e",
   "metadata": {},
   "outputs": [
    {
     "data": {
      "text/plain": [
       "{'records': [{'id': 'recH9472sCeg94tp2',\n",
       "   'fields': {'Hole': 3, 'Score': 5},\n",
       "   'createdTime': '2021-10-20T23:02:47.000Z'},\n",
       "  {'id': 'recN005xRqgCaEAyb',\n",
       "   'fields': {'Hole': 3, 'Score': 6},\n",
       "   'createdTime': '2021-10-20T22:41:28.000Z'}]}"
      ]
     },
     "execution_count": 70,
     "metadata": {},
     "output_type": "execute_result"
    }
   ],
   "source": [
    "# Check that records are updated.\n",
    "hole3 = get_scores_for_hole(3)\n",
    "\n",
    "hole3.json()"
   ]
  },
  {
   "cell_type": "markdown",
   "id": "b7a4e19e",
   "metadata": {},
   "source": [
    "Another way of updating records is by using a `PUT` request. Updating records via a `PUT` request is similar to using `PATCH` with one big difference in the outcome. Where a `PATCH` request updates the values you specify in your request and leaves the others the same a `PUT` request will update the values you specify in the payload and clear the values of all other fields.\n",
    "\n",
    "Let's look at an example with a new function `replace_record_fields` that will submit the `PUT` request."
   ]
  },
  {
   "cell_type": "code",
   "execution_count": 71,
   "id": "d52983ff",
   "metadata": {},
   "outputs": [],
   "source": [
    "def replace_record_fields(updated_records):\n",
    "    \"\"\"Updates the records.\"\"\"\n",
    "    url = f\"{AIRTABLE_URL}/golf-scores\"\n",
    "    headers = {\n",
    "        'Authorization': f'Bearer {AIRTABLE_TOKEN}',\n",
    "        'Content-Type': 'application/json'\n",
    "    }\n",
    "\n",
    "    response = requests.request(\"PUT\", url, headers=headers, data=json.dumps(updated_records))\n",
    "\n",
    "    return response"
   ]
  },
  {
   "cell_type": "markdown",
   "id": "371a589e",
   "metadata": {},
   "source": [
    "The syntax of the payload is the same as the `PATCH` request, but this time let's change the score to 4."
   ]
  },
  {
   "cell_type": "code",
   "execution_count": 72,
   "id": "75745d16",
   "metadata": {},
   "outputs": [],
   "source": [
    "# Update a record (PUT).\n",
    "update_records = {\n",
    "    \"records\": [\n",
    "        {\n",
    "            \"id\": hole_3_id,\n",
    "            \"fields\": {\n",
    "                \"Score\": 4\n",
    "            }\n",
    "        }\n",
    "    ]\n",
    "}\n",
    "\n",
    "response = replace_record_fields(update_records)"
   ]
  },
  {
   "cell_type": "markdown",
   "id": "dcac94f5",
   "metadata": {},
   "source": [
    "Now, let's look at the output in Airtable. You should see one record with a `Score` of 4, but all the other fields are empty. That's the result of the `PUT` request. Since only a value for `Score` was specified in your payload that field is updated and all the others are cleared."
   ]
  },
  {
   "cell_type": "markdown",
   "id": "f7b9ee03",
   "metadata": {},
   "source": [
    "## Deleting Records\n",
    "\n",
    "The last action we'll look at is deleting records from Airtable. To delete a record from Airtable you need to know the record IDs you want to delete. Those will be passed as query parameters with the `DELETE` request and Airtable will remove those records from your table.\n",
    "\n",
    "The `delete_records` function below shows an example function."
   ]
  },
  {
   "cell_type": "code",
   "execution_count": 73,
   "id": "07e4f19a",
   "metadata": {},
   "outputs": [],
   "source": [
    "def delete_records(records):\n",
    "    \"\"\"Deletes records from the table.\"\"\"\n",
    "    url = f\"{AIRTABLE_URL}/golf-scores\"\n",
    "    headers = {\n",
    "        'Authorization': f'Bearer {AIRTABLE_TOKEN}',\n",
    "        'Content-Type': 'application/json'\n",
    "    }\n",
    "\n",
    "    params = {\n",
    "        \"records[]\": records\n",
    "    }\n",
    "\n",
    "    response = requests.request(\"DELETE\", url, headers=headers, params=params)\n",
    "\n",
    "    return response"
   ]
  },
  {
   "cell_type": "markdown",
   "id": "a932ecf6",
   "metadata": {},
   "source": [
    "In this last step let's delete the record for hole 3. Use the same `id` from the last step."
   ]
  },
  {
   "cell_type": "code",
   "execution_count": 74,
   "id": "8017fe8d",
   "metadata": {},
   "outputs": [],
   "source": [
    "# Delete a record.\n",
    "delete_ids = [hole_3_id]\n",
    "response = delete_records(delete_ids)"
   ]
  },
  {
   "cell_type": "markdown",
   "id": "4f3fd5bb",
   "metadata": {},
   "source": [
    "If you look at your Airtable you should see that the record that only contained the score value has been deleted."
   ]
  },
  {
   "cell_type": "code",
   "execution_count": null,
   "id": "5cca71b5",
   "metadata": {},
   "outputs": [],
   "source": []
  }
 ],
 "metadata": {
  "kernelspec": {
   "display_name": "Python 3 (ipykernel)",
   "language": "python",
   "name": "python3"
  },
  "language_info": {
   "codemirror_mode": {
    "name": "ipython",
    "version": 3
   },
   "file_extension": ".py",
   "mimetype": "text/x-python",
   "name": "python",
   "nbconvert_exporter": "python",
   "pygments_lexer": "ipython3",
   "version": "3.7.3"
  }
 },
 "nbformat": 4,
 "nbformat_minor": 5
}
